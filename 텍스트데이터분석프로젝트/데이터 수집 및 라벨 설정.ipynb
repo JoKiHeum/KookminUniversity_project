{
 "cells": [
  {
   "cell_type": "code",
   "execution_count": 1,
   "metadata": {},
   "outputs": [],
   "source": [
    "from selenium.webdriver import Chrome\n",
    "import requests\n",
    "import lxml.html"
   ]
  },
  {
   "cell_type": "code",
   "execution_count": 2,
   "metadata": {},
   "outputs": [],
   "source": [
    "import pandas as pd"
   ]
  },
  {
   "cell_type": "markdown",
   "metadata": {},
   "source": [
    "# 웹 클로링 및 전처리"
   ]
  },
  {
   "cell_type": "code",
   "execution_count": 3,
   "metadata": {},
   "outputs": [],
   "source": [
    "reviews = []\n",
    "for i in range(1,291):\n",
    "    res = requests.get(f'https://www.myprotein.co.kr/sports-nutrition/impact-whey-protein/10530943.reviews?pageNumber={i}&sortBy=rating&orderBy=DESC')\n",
    "    root = lxml.html.fromstring(res.text)\n",
    "    for review in root.cssselect('.athenaProductReviews_reviewContent'):\n",
    "        reviews.append(review.text_content().replace('\\n',' ').replace('\\r',' ').replace('\\xa0',' '))"
   ]
  },
  {
   "cell_type": "code",
   "execution_count": 4,
   "metadata": {},
   "outputs": [],
   "source": [
    "df1 = pd.DataFrame({'review':reviews})"
   ]
  },
  {
   "cell_type": "code",
   "execution_count": 5,
   "metadata": {},
   "outputs": [],
   "source": [
    "df1['label'] = 0"
   ]
  },
  {
   "cell_type": "code",
   "execution_count": 6,
   "metadata": {},
   "outputs": [
    {
     "name": "stderr",
     "output_type": "stream",
     "text": [
      "C:\\Users\\82107\\anaconda3\\lib\\site-packages\\ipykernel_launcher.py:1: SettingWithCopyWarning: \n",
      "A value is trying to be set on a copy of a slice from a DataFrame.\n",
      "Try using .loc[row_indexer,col_indexer] = value instead\n",
      "\n",
      "See the caveats in the documentation: https://pandas.pydata.org/pandas-docs/stable/user_guide/indexing.html#returning-a-view-versus-a-copy\n",
      "  \"\"\"Entry point for launching an IPython kernel.\n"
     ]
    }
   ],
   "source": [
    "df1.loc[2329:,:]['label']=1"
   ]
  },
  {
   "cell_type": "code",
   "execution_count": 7,
   "metadata": {},
   "outputs": [],
   "source": [
    "reviews2 = []\n",
    "for i in range(1,103): \n",
    "    res = requests.get(f'https://www.myprotein.co.kr/sports-nutrition/impact-whey-isolate/10530911.reviews?pageNumber={i}&sortBy=rating&orderBy=DESC')\n",
    "    root = lxml.html.fromstring(res.text)\n",
    "    for review in root.cssselect('.athenaProductReviews_reviewContent'):\n",
    "        reviews2.append(review.text_content().replace('\\n',' ').replace('\\r',' ').replace('\\xa0',' '))"
   ]
  },
  {
   "cell_type": "code",
   "execution_count": 8,
   "metadata": {},
   "outputs": [],
   "source": [
    "df2 = pd.DataFrame({'review':reviews2})"
   ]
  },
  {
   "cell_type": "code",
   "execution_count": 9,
   "metadata": {},
   "outputs": [],
   "source": [
    "df2['label']=0"
   ]
  },
  {
   "cell_type": "code",
   "execution_count": 10,
   "metadata": {},
   "outputs": [
    {
     "name": "stderr",
     "output_type": "stream",
     "text": [
      "C:\\Users\\82107\\anaconda3\\lib\\site-packages\\ipykernel_launcher.py:1: SettingWithCopyWarning: \n",
      "A value is trying to be set on a copy of a slice from a DataFrame.\n",
      "Try using .loc[row_indexer,col_indexer] = value instead\n",
      "\n",
      "See the caveats in the documentation: https://pandas.pydata.org/pandas-docs/stable/user_guide/indexing.html#returning-a-view-versus-a-copy\n",
      "  \"\"\"Entry point for launching an IPython kernel.\n"
     ]
    }
   ],
   "source": [
    "df2.loc[759:,:]['label']=1"
   ]
  },
  {
   "cell_type": "code",
   "execution_count": 11,
   "metadata": {},
   "outputs": [],
   "source": [
    "reviews3 = []\n",
    "for i in range(1,11): \n",
    "    res = requests.get(f'https://www.myprotein.co.kr/sports-nutrition/clear-whey-isolate/12081395.reviews?pageNumber={i}&sortBy=rating&orderBy=DESC')\n",
    "    root = lxml.html.fromstring(res.text)\n",
    "    for review in root.cssselect('.athenaProductReviews_reviewContent'):\n",
    "        reviews3.append(review.text_content().replace('\\n',' ').replace('\\r',' ').replace('\\xa0',' '))"
   ]
  },
  {
   "cell_type": "code",
   "execution_count": 12,
   "metadata": {},
   "outputs": [],
   "source": [
    "df3 = pd.DataFrame({'review':reviews3})"
   ]
  },
  {
   "cell_type": "code",
   "execution_count": 13,
   "metadata": {},
   "outputs": [],
   "source": [
    "df3['label']=0"
   ]
  },
  {
   "cell_type": "code",
   "execution_count": 14,
   "metadata": {},
   "outputs": [
    {
     "name": "stderr",
     "output_type": "stream",
     "text": [
      "C:\\Users\\82107\\anaconda3\\lib\\site-packages\\ipykernel_launcher.py:1: SettingWithCopyWarning: \n",
      "A value is trying to be set on a copy of a slice from a DataFrame.\n",
      "Try using .loc[row_indexer,col_indexer] = value instead\n",
      "\n",
      "See the caveats in the documentation: https://pandas.pydata.org/pandas-docs/stable/user_guide/indexing.html#returning-a-view-versus-a-copy\n",
      "  \"\"\"Entry point for launching an IPython kernel.\n"
     ]
    }
   ],
   "source": [
    "df3.loc[56:,:]['label']=1"
   ]
  },
  {
   "cell_type": "code",
   "execution_count": 15,
   "metadata": {},
   "outputs": [],
   "source": [
    "reviews4 = []\n",
    "for i in range(1,12): \n",
    "    res = requests.get(f'https://www.myprotein.co.kr/sports-nutrition/soy-protein-isolate/10529701.reviews?pageNumber={i}&sortBy=rating&orderBy=DESC')\n",
    "    root = lxml.html.fromstring(res.text)\n",
    "    for review in root.cssselect('.athenaProductReviews_reviewContent'):\n",
    "        reviews4.append(review.text_content().replace('\\n',' ').replace('\\r',' ').replace('\\xa0',' '))"
   ]
  },
  {
   "cell_type": "code",
   "execution_count": 16,
   "metadata": {},
   "outputs": [],
   "source": [
    "df4 = pd.DataFrame({'review':reviews4})"
   ]
  },
  {
   "cell_type": "code",
   "execution_count": 18,
   "metadata": {},
   "outputs": [],
   "source": [
    "df4['label']=0"
   ]
  },
  {
   "cell_type": "code",
   "execution_count": 19,
   "metadata": {},
   "outputs": [
    {
     "name": "stderr",
     "output_type": "stream",
     "text": [
      "C:\\Users\\82107\\anaconda3\\lib\\site-packages\\ipykernel_launcher.py:1: SettingWithCopyWarning: \n",
      "A value is trying to be set on a copy of a slice from a DataFrame.\n",
      "Try using .loc[row_indexer,col_indexer] = value instead\n",
      "\n",
      "See the caveats in the documentation: https://pandas.pydata.org/pandas-docs/stable/user_guide/indexing.html#returning-a-view-versus-a-copy\n",
      "  \"\"\"Entry point for launching an IPython kernel.\n"
     ]
    }
   ],
   "source": [
    "df4.loc[44:,:]['label']=1"
   ]
  },
  {
   "cell_type": "code",
   "execution_count": 20,
   "metadata": {},
   "outputs": [],
   "source": [
    "reviews5 = []\n",
    "for i in range(1,49): \n",
    "    res = requests.get(f'https://www.myprotein.co.kr/ports-nutrition/essential-bcaa-2-1-1-powder/10529280.reviews?pageNumber={i}&sortBy=rating&orderBy=DESC')\n",
    "    root = lxml.html.fromstring(res.text)\n",
    "    for review in root.cssselect('.athenaProductReviews_reviewContent'):\n",
    "        reviews5.append(review.text_content().replace('\\n',' ').replace('\\r',' ').replace('\\xa0',' '))"
   ]
  },
  {
   "cell_type": "code",
   "execution_count": 21,
   "metadata": {},
   "outputs": [],
   "source": [
    "df5 = pd.DataFrame({'review':reviews5})"
   ]
  },
  {
   "cell_type": "code",
   "execution_count": 22,
   "metadata": {},
   "outputs": [],
   "source": [
    "df5['label']=0"
   ]
  },
  {
   "cell_type": "code",
   "execution_count": 23,
   "metadata": {},
   "outputs": [
    {
     "name": "stderr",
     "output_type": "stream",
     "text": [
      "C:\\Users\\82107\\anaconda3\\lib\\site-packages\\ipykernel_launcher.py:1: SettingWithCopyWarning: \n",
      "A value is trying to be set on a copy of a slice from a DataFrame.\n",
      "Try using .loc[row_indexer,col_indexer] = value instead\n",
      "\n",
      "See the caveats in the documentation: https://pandas.pydata.org/pandas-docs/stable/user_guide/indexing.html#returning-a-view-versus-a-copy\n",
      "  \"\"\"Entry point for launching an IPython kernel.\n"
     ]
    }
   ],
   "source": [
    "df5.loc[319:,:]['label']=1"
   ]
  },
  {
   "cell_type": "code",
   "execution_count": 24,
   "metadata": {},
   "outputs": [],
   "source": [
    "reviews6 = []\n",
    "for i in range(1,13): \n",
    "    res = requests.get(f'https://www.myprotein.co.kr/sports-nutrition/the-whey/11353515.reviews?pageNumber={i}&sortBy=rating&orderBy=DESC')\n",
    "    root = lxml.html.fromstring(res.text)\n",
    "    for review in root.cssselect('.athenaProductReviews_reviewContent'):\n",
    "        reviews6.append(review.text_content().replace('\\n',' ').replace('\\r',' ').replace('\\xa0',' '))"
   ]
  },
  {
   "cell_type": "code",
   "execution_count": 25,
   "metadata": {},
   "outputs": [],
   "source": [
    "df6 = pd.DataFrame({'review':reviews6})"
   ]
  },
  {
   "cell_type": "code",
   "execution_count": 26,
   "metadata": {},
   "outputs": [],
   "source": [
    "df6['label']=0"
   ]
  },
  {
   "cell_type": "code",
   "execution_count": 27,
   "metadata": {},
   "outputs": [
    {
     "name": "stderr",
     "output_type": "stream",
     "text": [
      "C:\\Users\\82107\\anaconda3\\lib\\site-packages\\ipykernel_launcher.py:1: SettingWithCopyWarning: \n",
      "A value is trying to be set on a copy of a slice from a DataFrame.\n",
      "Try using .loc[row_indexer,col_indexer] = value instead\n",
      "\n",
      "See the caveats in the documentation: https://pandas.pydata.org/pandas-docs/stable/user_guide/indexing.html#returning-a-view-versus-a-copy\n",
      "  \"\"\"Entry point for launching an IPython kernel.\n"
     ]
    }
   ],
   "source": [
    "df6.loc[86:,:]['label']=1"
   ]
  },
  {
   "cell_type": "code",
   "execution_count": 28,
   "metadata": {},
   "outputs": [],
   "source": [
    "reviews7 = []\n",
    "for i in range(1,17): \n",
    "    res = requests.get(f'https://www.myprotein.co.kr/sports-nutrition/creatine-monohydrate-powder/10530050.reviews?pageNumber={i}&sortBy=rating&orderBy=DESC')\n",
    "    root = lxml.html.fromstring(res.text)\n",
    "    for review in root.cssselect('.athenaProductReviews_reviewContent'):\n",
    "        reviews7.append(review.text_content().replace('\\n',' ').replace('\\r',' ').replace('\\xa0',' '))"
   ]
  },
  {
   "cell_type": "code",
   "execution_count": 29,
   "metadata": {},
   "outputs": [],
   "source": [
    "df7 = pd.DataFrame({'review':reviews7})"
   ]
  },
  {
   "cell_type": "code",
   "execution_count": 30,
   "metadata": {},
   "outputs": [
    {
     "name": "stderr",
     "output_type": "stream",
     "text": [
      "C:\\Users\\82107\\anaconda3\\lib\\site-packages\\ipykernel_launcher.py:1: SettingWithCopyWarning: \n",
      "A value is trying to be set on a copy of a slice from a DataFrame.\n",
      "Try using .loc[row_indexer,col_indexer] = value instead\n",
      "\n",
      "See the caveats in the documentation: https://pandas.pydata.org/pandas-docs/stable/user_guide/indexing.html#returning-a-view-versus-a-copy\n",
      "  \"\"\"Entry point for launching an IPython kernel.\n"
     ]
    }
   ],
   "source": [
    "df7.loc[118:,:]['label']=1"
   ]
  },
  {
   "cell_type": "code",
   "execution_count": 31,
   "metadata": {},
   "outputs": [],
   "source": [
    "reviews8 = []\n",
    "for i in range(1,13): \n",
    "    res = requests.get(f'https://www.myprotein.co.kr/sports-nutrition/100-aakg-powder/10529763.reviews?pageNumber={i}&sortBy=rating&orderBy=DESC')\n",
    "    root = lxml.html.fromstring(res.text)\n",
    "    for review in root.cssselect('.athenaProductReviews_reviewContent'):\n",
    "        reviews8.append(review.text_content().replace('\\n',' ').replace('\\r',' ').replace('\\xa0',' '))"
   ]
  },
  {
   "cell_type": "code",
   "execution_count": 32,
   "metadata": {},
   "outputs": [],
   "source": [
    "df8 = pd.DataFrame({'review':reviews8})"
   ]
  },
  {
   "cell_type": "code",
   "execution_count": 33,
   "metadata": {},
   "outputs": [],
   "source": [
    "df8['label']=0"
   ]
  },
  {
   "cell_type": "code",
   "execution_count": 34,
   "metadata": {},
   "outputs": [
    {
     "name": "stderr",
     "output_type": "stream",
     "text": [
      "C:\\Users\\82107\\anaconda3\\lib\\site-packages\\ipykernel_launcher.py:1: SettingWithCopyWarning: \n",
      "A value is trying to be set on a copy of a slice from a DataFrame.\n",
      "Try using .loc[row_indexer,col_indexer] = value instead\n",
      "\n",
      "See the caveats in the documentation: https://pandas.pydata.org/pandas-docs/stable/user_guide/indexing.html#returning-a-view-versus-a-copy\n",
      "  \"\"\"Entry point for launching an IPython kernel.\n"
     ]
    }
   ],
   "source": [
    "df8.loc[91:,:]['label']=1"
   ]
  },
  {
   "cell_type": "code",
   "execution_count": 35,
   "metadata": {},
   "outputs": [],
   "source": [
    "review = pd.concat([df1,df2,df3,df4,df5,df6,df7,df8],ignore_index=True)"
   ]
  },
  {
   "cell_type": "code",
   "execution_count": 37,
   "metadata": {},
   "outputs": [],
   "source": [
    "review.to_excel('review.xlsx')"
   ]
  },
  {
   "cell_type": "code",
   "execution_count": 38,
   "metadata": {},
   "outputs": [
    {
     "data": {
      "text/html": [
       "<div>\n",
       "<style scoped>\n",
       "    .dataframe tbody tr th:only-of-type {\n",
       "        vertical-align: middle;\n",
       "    }\n",
       "\n",
       "    .dataframe tbody tr th {\n",
       "        vertical-align: top;\n",
       "    }\n",
       "\n",
       "    .dataframe thead th {\n",
       "        text-align: right;\n",
       "    }\n",
       "</style>\n",
       "<table border=\"1\" class=\"dataframe\">\n",
       "  <thead>\n",
       "    <tr style=\"text-align: right;\">\n",
       "      <th></th>\n",
       "      <th>review</th>\n",
       "      <th>label</th>\n",
       "    </tr>\n",
       "  </thead>\n",
       "  <tbody>\n",
       "    <tr>\n",
       "      <th>0</th>\n",
       "      <td>군대에서 체단실꾸준히 가고, 단백질 챙겨먹으려 샀는데 5kg짜리 700g정도밖에 ...</td>\n",
       "      <td>0.0</td>\n",
       "    </tr>\n",
       "    <tr>\n",
       "      <th>1</th>\n",
       "      <td>리뷰 많아서 아이스라떼로 사봤는데  맛있네요  담에도 이거 살듯</td>\n",
       "      <td>0.0</td>\n",
       "    </tr>\n",
       "    <tr>\n",
       "      <th>2</th>\n",
       "      <td>I've been looking for a whey protein with goo...</td>\n",
       "      <td>0.0</td>\n",
       "    </tr>\n",
       "    <tr>\n",
       "      <th>3</th>\n",
       "      <td>왜 사람들이 추천하는 이유를 알겠네요 달달하니 운동전에 한스쿱 운동끝나고 한스쿱 ...</td>\n",
       "      <td>0.0</td>\n",
       "    </tr>\n",
       "    <tr>\n",
       "      <th>4</th>\n",
       "      <td>솔티드 카라멜이라고 되어있지만 맛은 물 150ml에 태워 먹었을때 율무차 맛이 나...</td>\n",
       "      <td>0.0</td>\n",
       "    </tr>\n",
       "    <tr>\n",
       "      <th>...</th>\n",
       "      <td>...</td>\n",
       "      <td>...</td>\n",
       "    </tr>\n",
       "    <tr>\n",
       "      <th>4919</th>\n",
       "      <td>처음에 열나는거 맞는데 뭔가 기대했던 것 만큼 엄청나지는 않음. 더 먹어봐야 알것...</td>\n",
       "      <td>1.0</td>\n",
       "    </tr>\n",
       "    <tr>\n",
       "      <th>4920</th>\n",
       "      <td>배송이 한달걸리는건 코로나 때문에 그렇다쳐도 ㅋㅋㅋ먹을수 잇게 배달은 해와야지 장...</td>\n",
       "      <td>1.0</td>\n",
       "    </tr>\n",
       "    <tr>\n",
       "      <th>4921</th>\n",
       "      <td>타회사 보충제 4년정도먹다가 이번에 마이프로틴 으로 주문했는데 3주가 다되가는데 ...</td>\n",
       "      <td>1.0</td>\n",
       "    </tr>\n",
       "    <tr>\n",
       "      <th>4922</th>\n",
       "      <td>초과용량 먹고 뒤지라는 건가요. ?</td>\n",
       "      <td>1.0</td>\n",
       "    </tr>\n",
       "    <tr>\n",
       "      <th>4923</th>\n",
       "      <td>포장멍미  위로다쏠려서 뜯으면 다흘러버리겠네</td>\n",
       "      <td>1.0</td>\n",
       "    </tr>\n",
       "  </tbody>\n",
       "</table>\n",
       "<p>4924 rows × 2 columns</p>\n",
       "</div>"
      ],
      "text/plain": [
       "                                                 review  label\n",
       "0      군대에서 체단실꾸준히 가고, 단백질 챙겨먹으려 샀는데 5kg짜리 700g정도밖에 ...    0.0\n",
       "1                  리뷰 많아서 아이스라떼로 사봤는데  맛있네요  담에도 이거 살듯     0.0\n",
       "2      I've been looking for a whey protein with goo...    0.0\n",
       "3      왜 사람들이 추천하는 이유를 알겠네요 달달하니 운동전에 한스쿱 운동끝나고 한스쿱 ...    0.0\n",
       "4      솔티드 카라멜이라고 되어있지만 맛은 물 150ml에 태워 먹었을때 율무차 맛이 나...    0.0\n",
       "...                                                 ...    ...\n",
       "4919   처음에 열나는거 맞는데 뭔가 기대했던 것 만큼 엄청나지는 않음. 더 먹어봐야 알것...    1.0\n",
       "4920   배송이 한달걸리는건 코로나 때문에 그렇다쳐도 ㅋㅋㅋ먹을수 잇게 배달은 해와야지 장...    1.0\n",
       "4921   타회사 보충제 4년정도먹다가 이번에 마이프로틴 으로 주문했는데 3주가 다되가는데 ...    1.0\n",
       "4922                              초과용량 먹고 뒤지라는 건가요. ?      1.0\n",
       "4923                          포장멍미  위로다쏠려서 뜯으면 다흘러버리겠네     1.0\n",
       "\n",
       "[4924 rows x 2 columns]"
      ]
     },
     "execution_count": 38,
     "metadata": {},
     "output_type": "execute_result"
    }
   ],
   "source": [
    "pd.read_excel('review.xlsx', index_col=0)"
   ]
  },
  {
   "cell_type": "code",
   "execution_count": 3,
   "metadata": {},
   "outputs": [],
   "source": [
    "review = pd.read_excel('review.xlsx', index_col=0)"
   ]
  },
  {
   "cell_type": "code",
   "execution_count": 5,
   "metadata": {},
   "outputs": [],
   "source": [
    "## 라벨을 다는 과정에서 긍정을 0 부정을 1로 잘못 설정하여 재설정 한 후 라벨이 0과 1이 뭉처져 있어서 행 섞기 진행\n",
    "review['label'] = review['label'].apply(lambda x:0 if x==1 else 1)"
   ]
  },
  {
   "cell_type": "code",
   "execution_count": 5,
   "metadata": {},
   "outputs": [],
   "source": [
    "review =review.sample(frac=1).reset_index(drop=True)"
   ]
  },
  {
   "cell_type": "code",
   "execution_count": 7,
   "metadata": {},
   "outputs": [],
   "source": [
    "review.to_excel('review.xlsx')"
   ]
  }
 ],
 "metadata": {
  "kernelspec": {
   "display_name": "Python 3",
   "language": "python",
   "name": "python3"
  },
  "language_info": {
   "codemirror_mode": {
    "name": "ipython",
    "version": 3
   },
   "file_extension": ".py",
   "mimetype": "text/x-python",
   "name": "python",
   "nbconvert_exporter": "python",
   "pygments_lexer": "ipython3",
   "version": "3.8.8"
  }
 },
 "nbformat": 4,
 "nbformat_minor": 4
}
