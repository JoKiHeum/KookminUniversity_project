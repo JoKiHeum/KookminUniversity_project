{
 "cells": [
  {
   "cell_type": "markdown",
   "metadata": {
    "_uuid": "93b41229599509f643f1c1df3b86b3f79b66666f"
   },
   "source": [
    "<font color=\"#CC3D3D\"><p>\n",
    "# Build Models with W2V"
   ]
  },
  {
   "cell_type": "markdown",
   "metadata": {
    "_uuid": "93b41229599509f643f1c1df3b86b3f79b66666f"
   },
   "source": [
    "- `INPUT`: 학습용(`X_train.csv`, `y_train`)과 평가용(`X_test.csv`) 데이터 \n",
    "- `OUTPUT`: 위 데이터를 이용하여 구축한 모형이 생성한 예측결과(`submission.csv`)"
   ]
  },
  {
   "cell_type": "markdown",
   "metadata": {},
   "source": [
    "##### Imports"
   ]
  },
  {
   "cell_type": "code",
   "execution_count": 1,
   "metadata": {
    "_cell_guid": "79c7e3d0-c299-4dcb-8224-4455121ee9b0",
    "_uuid": "d629ff2d2480ee46fbb7e2d37f6b5fab8052498a"
   },
   "outputs": [],
   "source": [
    "# Data Wrangling\n",
    "import pandas as pd\n",
    "from pandas import Series, DataFrame\n",
    "import numpy as np\n",
    "\n",
    "# Visualization\n",
    "import matplotlib.pylab as plt\n",
    "from matplotlib import font_manager, rc\n",
    "import seaborn as sns\n",
    "%matplotlib inline\n",
    "\n",
    "# EDA\n",
    "import klib\n",
    "\n",
    "# Preprocessing & Feature Engineering\n",
    "from sklearn.model_selection import train_test_split\n",
    "from sklearn.preprocessing import MinMaxScaler\n",
    "from sklearn.impute import SimpleImputer \n",
    "from sklearn.preprocessing import StandardScaler\n",
    "from sklearn.preprocessing import MinMaxScaler\n",
    "from sklearn.preprocessing import PowerTransformer\n",
    "from sklearn.feature_selection import SelectPercentile\n",
    "from sklearn.decomposition import PCA\n",
    "\n",
    "# Hyperparameter Optimization\n",
    "from sklearn.model_selection import GridSearchCV\n",
    "from sklearn.model_selection import RandomizedSearchCV\n",
    "\n",
    "# Modeling\n",
    "from sklearn.dummy import DummyClassifier\n",
    "from sklearn.linear_model import LogisticRegression\n",
    "from sklearn.neighbors import KNeighborsClassifier\n",
    "from sklearn.ensemble import RandomForestClassifier\n",
    "from sklearn.neural_network import MLPClassifier\n",
    "from sklearn.tree import DecisionTreeClassifier\n",
    "from sklearn.ensemble import GradientBoostingClassifier\n",
    "from sklearn.svm import SVC\n",
    "from xgboost import XGBClassifier\n",
    "from lightgbm import LGBMClassifier\n",
    "from catboost import CatBoostClassifier\n",
    "from sklearn.ensemble import VotingClassifier\n",
    "from sklearn.ensemble import StackingClassifier\n",
    "from sklearn.base import ClassifierMixin\n",
    "\n",
    "# Evaluation\n",
    "from sklearn.metrics import roc_auc_score\n",
    "from sklearn.metrics import accuracy_score\n",
    "from sklearn.model_selection import cross_val_score\n",
    "\n",
    "# Utility\n",
    "import os\n",
    "import time\n",
    "import random\n",
    "import warnings; warnings.filterwarnings(\"ignore\")\n",
    "from IPython.display import Image\n",
    "import pickle\n",
    "from tqdm import tqdm\n",
    "import platform\n",
    "from itertools import combinations\n",
    "from scipy.stats.mstats import gmean"
   ]
  },
  {
   "cell_type": "markdown",
   "metadata": {
    "_uuid": "dd7e3527fd56e5b5855c6846ca226f5f860f725b"
   },
   "source": [
    "### 1. Read Transactions"
   ]
  },
  {
   "cell_type": "code",
   "execution_count": 2,
   "metadata": {},
   "outputs": [],
   "source": [
    "X_train = pd.read_csv(os.path.abspath(\"../dat\")+'/X_train_w2v.csv', encoding='cp949')\n",
    "X_test = pd.read_csv(os.path.abspath(\"../dat\")+'/X_test_w2v.csv', encoding='cp949')\n",
    "\n",
    "# 전처리를 동일하게 적용하기 위해 두 데이터를 합한다.\n",
    "train_id = X_train['cust_id']\n",
    "test_id = X_test['cust_id']\n",
    "del X_train['cust_id'], X_test['cust_id']\n",
    "\n",
    "# 학습용 정답 데이터를 읽는다.\n",
    "y_train = pd.read_csv(os.path.abspath(\"../dat\")+'/y_train.csv', encoding='cp949').gender"
   ]
  },
  {
   "cell_type": "markdown",
   "metadata": {},
   "source": [
    "### 4. Model Tuning (Hyperparameter Optimization)"
   ]
  },
  {
   "cell_type": "code",
   "execution_count": 3,
   "metadata": {},
   "outputs": [],
   "source": [
    "# 학습데이터 70%, 평가데이터 30%로 데이터 분할\n",
    "X_train, X_dev, y_train, y_dev = train_test_split(X_train, y_train, test_size=0.3, random_state=0)"
   ]
  },
  {
   "cell_type": "code",
   "execution_count": 4,
   "metadata": {},
   "outputs": [
    {
     "name": "stdout",
     "output_type": "stream",
     "text": [
      "final params {'n_estimators': 260, 'min_samples_split': 5, 'min_samples_leaf': 6, 'min_impurity_decrease': 0.0005, 'max_features': 'auto', 'max_depth': 7, 'criterion': 'gini', 'class_weight': 'balanced', 'bootstrap': True}\n",
      "best score 0.7496682430339809\n",
      "0.7524945099251941\n"
     ]
    }
   ],
   "source": [
    "clf = RandomForestClassifier(random_state=0)\n",
    "\n",
    "param_grid = {'n_estimators': [260],\n",
    "         'min_samples_split': [5],\n",
    "         'min_samples_leaf': [6],\n",
    "         'min_impurity_decrease': [0.0005],\n",
    "         'max_features': ['auto'],\n",
    "         'max_depth': [7],\n",
    "         'criterion': ['gini'],\n",
    "         'class_weight': ['balanced'],\n",
    "         'bootstrap': [True]}\n",
    "\n",
    "\n",
    "#RandomizedSearchCV를 이용해 하이퍼 파라미터 탐색\n",
    "clf = RandomizedSearchCV(clf, param_grid,scoring='roc_auc', cv=5, n_iter = 30, n_jobs=-1) \n",
    "clf.fit(X_train,y_train)\n",
    "print('final params', clf.best_params_)\n",
    "print('best score', clf.best_score_)\n",
    "print(clf.score(X_dev,y_dev))"
   ]
  },
  {
   "cell_type": "code",
   "execution_count": 5,
   "metadata": {},
   "outputs": [
    {
     "name": "stdout",
     "output_type": "stream",
     "text": [
      "final params {'subsample': 0.3, 'n_estimators': 140, 'min_child_weight': 4, 'max_depth': 3, 'learning_rate': 0.021, 'colsample_bytree': 0.7}\n",
      "best score 0.7630894160273912\n",
      "0.7518486187715542\n"
     ]
    }
   ],
   "source": [
    "clf = XGBClassifier(random_state = 0)\n",
    "\n",
    "param_grid = {'subsample': [0.3], \n",
    "          'n_estimators': [140],\n",
    "          'min_child_weight': [4],\n",
    "          'max_depth': [3],\n",
    "          'learning_rate': [0.021],\n",
    "          'colsample_bytree': [0.7]}\n",
    "\n",
    "#RandomizedSearchCV를 이용해 하이퍼 파라미터 탐색\n",
    "clf = RandomizedSearchCV(clf, param_grid,scoring='roc_auc', cv=5, n_iter = 100, n_jobs=-1)\n",
    "clf.fit(X_train,y_train)\n",
    "print('final params', clf.best_params_)\n",
    "print('best score', clf.best_score_)\n",
    "print(clf.score(X_dev,y_dev))"
   ]
  },
  {
   "cell_type": "code",
   "execution_count": 6,
   "metadata": {},
   "outputs": [
    {
     "name": "stdout",
     "output_type": "stream",
     "text": [
      "final params {'solver': 'adam', 'learning_rate': 'invscaling', 'hidden_layer_sizes': (32,), 'batch_size': 64, 'alpha': 0.30000000000000004, 'activation': 'relu'}\n",
      "best score 0.7563682895366836\n",
      "0.7613197317790192\n"
     ]
    }
   ],
   "source": [
    "clf = MLPClassifier(random_state=0)\n",
    "param_grid = {'solver': ['adam'],\n",
    "         'learning_rate': ['invscaling'],\n",
    "         'hidden_layer_sizes': [(32,)],\n",
    "         'batch_size': [64],\n",
    "         'alpha': [0.30000000000000004],\n",
    "         'activation': ['relu']}\n",
    "\n",
    "#RandomizedSearchCV를 이용해 하이퍼 파라미터 탐색\n",
    "clf = RandomizedSearchCV(clf, param_grid,scoring='roc_auc', cv=5, n_jobs=-1)\n",
    "clf.fit(X_train,y_train)\n",
    "print('final params', clf.best_params_)\n",
    "print('best score', clf.best_score_)\n",
    "print(clf.score(X_dev,y_dev))"
   ]
  },
  {
   "cell_type": "code",
   "execution_count": 7,
   "metadata": {},
   "outputs": [
    {
     "name": "stderr",
     "output_type": "stream",
     "text": [
      " 20%|████████████████▊                                                                   | 1/5 [00:00<00:03,  1.10it/s]"
     ]
    },
    {
     "name": "stdout",
     "output_type": "stream",
     "text": [
      "LogisticRegression                                   0.763539 0.9\n"
     ]
    },
    {
     "name": "stderr",
     "output_type": "stream",
     "text": [
      "\r",
      " 40%|█████████████████████████████████▌                                                  | 2/5 [00:09<00:09,  3.27s/it]"
     ]
    },
    {
     "name": "stdout",
     "output_type": "stream",
     "text": [
      "RandomForestClassifier                               0.752495 8.8\n"
     ]
    },
    {
     "name": "stderr",
     "output_type": "stream",
     "text": [
      "\r",
      " 60%|██████████████████████████████████████████████████▍                                 | 3/5 [00:17<00:09,  4.63s/it]"
     ]
    },
    {
     "name": "stdout",
     "output_type": "stream",
     "text": [
      "XGBClassifier                                        0.751849 7.8\n"
     ]
    },
    {
     "name": "stderr",
     "output_type": "stream",
     "text": [
      "\r",
      " 80%|███████████████████████████████████████████████████████████████████▏                | 4/5 [01:15<00:20, 20.79s/it]"
     ]
    },
    {
     "name": "stdout",
     "output_type": "stream",
     "text": [
      "SVC                                                  0.763559 58.5\n"
     ]
    },
    {
     "name": "stderr",
     "output_type": "stream",
     "text": [
      "100%|████████████████████████████████████████████████████████████████████████████████████| 5/5 [01:25<00:00, 17.12s/it]"
     ]
    },
    {
     "name": "stdout",
     "output_type": "stream",
     "text": [
      "MLPClassifier                                        0.761320 9.6\n"
     ]
    },
    {
     "name": "stderr",
     "output_type": "stream",
     "text": [
      "\n"
     ]
    }
   ],
   "source": [
    "clfs = [\n",
    "    (\n",
    "        LogisticRegression(random_state=0),  \n",
    "        {'C': [1.0],      \n",
    "         'penalty': ['l2']}\n",
    "    ),\n",
    "    (\n",
    "        RandomForestClassifier(random_state=0),\n",
    "        {'n_estimators': [260],\n",
    "         'min_samples_split': [5],\n",
    "         'min_samples_leaf': [6],\n",
    "         'min_impurity_decrease': [0.0005],\n",
    "         'max_features': ['auto'],\n",
    "         'max_depth': [7],\n",
    "         'criterion': ['gini'],\n",
    "         'class_weight': ['balanced'],\n",
    "         'bootstrap': [True]}\n",
    "    ),\n",
    "    (\n",
    "        XGBClassifier(random_state=0),\n",
    "        {'subsample': [0.3], \n",
    "          'n_estimators': [140],\n",
    "          'min_child_weight': [4],\n",
    "          'max_depth': [3],\n",
    "          'learning_rate': [0.021],\n",
    "          'colsample_bytree': [0.7]}\n",
    "    ),\n",
    "    (\n",
    "         SVC(probability=True,random_state=0),\n",
    "       {'kernel': ['poly'],\n",
    "         'C' : [0.9]}\n",
    "    ),\n",
    "    (\n",
    "        MLPClassifier(random_state=0),\n",
    "        {'solver': ['adam'],\n",
    "         'learning_rate': ['invscaling'],\n",
    "         'hidden_layer_sizes': [(32,)],\n",
    "         'batch_size': [64],\n",
    "         'alpha': [0.30000000000000004],\n",
    "         'activation': ['relu']}\n",
    "    \n",
    "    )\n",
    "]\n",
    "\n",
    "clfs_tuned = []  # 튜닝된 모델을 저장\n",
    "for clf, param_grid in tqdm(clfs):\n",
    "    start = time.time()\n",
    "    rand_search = GridSearchCV(clf, param_grid, scoring='roc_auc', \n",
    "                                     cv=5, n_jobs=-1)\n",
    "    rand_search.fit(X_train, y_train)\n",
    "    clf_name = type(clf).__name__\n",
    "    clf_score = rand_search.score(X_dev, y_dev)\n",
    "    print('{:30s} {:30f} {:.1f}'.format(clf_name, clf_score, time.time() - start))\n",
    "    clfs_tuned.append((clf_name, rand_search, clf_score))"
   ]
  },
  {
   "cell_type": "markdown",
   "metadata": {},
   "source": [
    "### 5. Model Ensemble"
   ]
  },
  {
   "cell_type": "markdown",
   "metadata": {},
   "source": [
    "*Correlation between models*"
   ]
  },
  {
   "cell_type": "code",
   "execution_count": 8,
   "metadata": {},
   "outputs": [
    {
     "data": {
      "image/png": "[encoded data removed]",
      "text/plain": [
       "<Figure size 576x432 with 2 Axes>"
      ]
     },
     "metadata": {
      "needs_background": "light"
     },
     "output_type": "display_data"
    }
   ],
   "source": [
    "pred_results = []\n",
    "for name, clf, clf_score in clfs_tuned:\n",
    "    pred = clf.predict_proba(X_dev)[:,1]\n",
    "    name = f'{name} \\n({clf_score:.4f})'\n",
    "    pred_results.append(pd.Series(pred, name=name))\n",
    "ensemble_results = pd.concat(pred_results, axis=1)\n",
    "\n",
    "# 모형의 예측값 간의 상관관계를 보기 위해 hitmap을 도식한다.\n",
    "plt.figure(figsize = (8,6))\n",
    "g = sns.heatmap(ensemble_results.corr(), annot=True, cmap='Blues')\n",
    "g.set_title(\"Correlation between models\")\n",
    "plt.show()"
   ]
  },
  {
   "cell_type": "markdown",
   "metadata": {},
   "source": [
    "*Mean agreement vs. Performance*"
   ]
  },
  {
   "cell_type": "code",
   "execution_count": 9,
   "metadata": {},
   "outputs": [
    {
     "data": {
      "text/plain": [
       "LogisticRegression \\n(0.7635)        0.944358\n",
       "RandomForestClassifier \\n(0.7525)    0.934688\n",
       "XGBClassifier \\n(0.7518)             0.941955\n",
       "SVC \\n(0.7636)                       0.937507\n",
       "MLPClassifier \\n(0.7613)             0.952851\n",
       "dtype: float64"
      ]
     },
     "execution_count": 9,
     "metadata": {},
     "output_type": "execute_result"
    }
   ],
   "source": [
    "# Mean agreement\n",
    "(ensemble_results.corr().sum()-1)/(ensemble_results.corr().shape[0]-1)"
   ]
  },
  {
   "cell_type": "code",
   "execution_count": 10,
   "metadata": {},
   "outputs": [
    {
     "data": {
      "image/png": "[encoded data removed]",
      "text/plain": [
       "<Figure size 576x432 with 1 Axes>"
      ]
     },
     "metadata": {
      "needs_background": "light"
     },
     "output_type": "display_data"
    }
   ],
   "source": [
    "corr = (ensemble_results.corr().sum()-1)/(ensemble_results.corr().shape[0]-1)\n",
    "names = corr.index\n",
    "aucs = np.array(corr.index.str[-7:-1]).astype(float)\n",
    "df = pd.DataFrame({'model': names, 'auc': aucs, 'cor': corr})        \n",
    "\n",
    "plt.figure(figsize=(8,6))\n",
    "g = sns.scatterplot(x=\"cor\", y=\"auc\", data=df, s=40, color='red')\n",
    "for line in range(0, df.shape[0]):\n",
    "     g.text(df.cor[line]+0.003, df.auc[line]-0.003, \n",
    "            df.model[line], horizontalalignment='left', \n",
    "            size='medium', color='black', weight='semibold')\n",
    "        \n",
    "plt.xlim((df.cor.min()-0.01,df.cor.max()+0.01))\n",
    "plt.ylim((df.auc.min()-0.01,df.auc.max()+0.01))\n",
    "plt.xlabel('Mean Agreement')\n",
    "plt.ylabel('ROC-AUC')\n",
    "plt.grid()\n",
    "plt.show()"
   ]
  },
  {
   "cell_type": "markdown",
   "metadata": {},
   "source": [
    "*Averaging Ensemble*"
   ]
  },
  {
   "cell_type": "code",
   "execution_count": 11,
   "metadata": {},
   "outputs": [],
   "source": [
    "# Averaging 앙상블에 사용하지 않을 모델은 주석 처리하시오.\n",
    "selected = [\n",
    "    'LogisticRegression', \n",
    "    'RandomForestClassifier', \n",
    "    'SVC',\n",
    "    'XGBClassifier',\n",
    "    'MLPClassifier'\n",
    "]\n",
    "models_for_ensemble = [clf for clf in clfs_tuned if clf[0] in selected]"
   ]
  },
  {
   "cell_type": "code",
   "execution_count": 12,
   "metadata": {},
   "outputs": [
    {
     "name": "stderr",
     "output_type": "stream",
     "text": [
      "100%|████████████████████████████████████████████████████████████████████████████████████| 3/3 [01:32<00:00, 30.71s/it]"
     ]
    },
    {
     "name": "stdout",
     "output_type": "stream",
     "text": [
      "p=1\n",
      "LogisticRegression●RandomForestClassifier●SVC\n",
      "0.7668352507819198\n"
     ]
    },
    {
     "name": "stderr",
     "output_type": "stream",
     "text": [
      "\n"
     ]
    }
   ],
   "source": [
    "max_score = 0\n",
    "for p in tqdm([0, 1, 3.5]):  # p==1:산술평균, p=0:기하평균, 그 외:멱평균(주의:멱평균은 과적합 가능성이 높음)    \n",
    "    for i in range(2, len(models_for_ensemble)+1):\n",
    "        for models in combinations(models_for_ensemble, i):\n",
    "            if p == 0:\n",
    "                pred_mean = gmean([clf.predict_proba(X_dev)[:,1] for name, clf, _ in models], axis=0)\n",
    "            else:\n",
    "                preds = [clf.predict_proba(X_dev)[:,1] for name, clf, _ in models]\n",
    "                pred_mean = (np.sum(np.array(preds)**p, axis=0) / len(models))**(1/p)\n",
    "            score = roc_auc_score(y_dev, pred_mean)\n",
    "            if max_score < score:\n",
    "                best_avg_ensemble = (p, models, score)\n",
    "                max_score = score\n",
    "\n",
    "p, models, score = best_avg_ensemble\n",
    "print('p={}\\n{}\\n{}'.format(p, '●'.join([clf_name for clf_name, _, _ in models]), score))"
   ]
  },
  {
   "cell_type": "markdown",
   "metadata": {},
   "source": [
    "<font color=\"#CC3D3D\"><p>\n",
    "!!! 아래 셀 코드의 버그를 수정하였음 !!!"
   ]
  },
  {
   "cell_type": "code",
   "execution_count": 13,
   "metadata": {},
   "outputs": [],
   "source": [
    "# sklearn의 다른 classifier와 호환성을 갖기위해 Custom Classifier인 \"AveragingClassifier\" 생성\n",
    "\n",
    "class AveragingClassifier(ClassifierMixin):\n",
    "    def __init__(self, estimators, p):\n",
    "        self.estimators = estimators\n",
    "        self.p = p\n",
    "    \n",
    "    def fit(self, X, y):\n",
    "        return None\n",
    "\n",
    "    def predict(self, X):\n",
    "        if self.p == 0:\n",
    "            pred = gmean([clf.predict(X) for name, clf in self.estimators], axis=0)\n",
    "        else:\n",
    "            preds = [clf.predict(X) for name, clf in self.estimators]\n",
    "            pred = (np.sum(np.array(preds)**self.p, axis=0) / len(self.estimators))**(1/self.p)\n",
    "        return pred\n",
    "         \n",
    "    def predict_proba(self, X):\n",
    "        if self.p == 0:\n",
    "            prob = gmean([clf.predict_proba(X) for name, clf in self.estimators], axis=0)\n",
    "        else:\n",
    "            probs = [clf.predict_proba(X) for name, clf in self.estimators]\n",
    "            prob = (np.sum(np.array(probs)**self.p, axis=0) / len(self.estimators))**(1/self.p)\n",
    "        return prob\n",
    "    \n",
    "estimators = [(name, clf) for name, clf, _ in models]\n",
    "avg_clf = AveragingClassifier(estimators, p)\n",
    "avg_clf.fit(X_train, y_train)    "
   ]
  },
  {
   "cell_type": "markdown",
   "metadata": {},
   "source": [
    "### 6. Deployment"
   ]
  },
  {
   "cell_type": "code",
   "execution_count": 14,
   "metadata": {},
   "outputs": [],
   "source": [
    "pd.DataFrame({'cust_id': test_id, 'gender': avg_clf.predict_proba(X_test)[:,1]}).to_csv(os.path.abspath(\"../dat\")+'/submissions/조기흠-submission-features-W2V.csv', index=False)"
   ]
  },
  {
   "cell_type": "markdown",
   "metadata": {
    "_uuid": "db6a418af5947fb6d1546dc8949ac55663504f18"
   },
   "source": [
    "<font color=\"#CC3D3D\"><p>\n",
    "# End"
   ]
  }
 ],
 "metadata": {
  "kernelspec": {
   "display_name": "Python 3 (ipykernel)",
   "language": "python",
   "name": "python3"
  },
  "language_info": {
   "codemirror_mode": {
    "name": "ipython",
    "version": 3
   },
   "file_extension": ".py",
   "mimetype": "text/x-python",
   "name": "python",
   "nbconvert_exporter": "python",
   "pygments_lexer": "ipython3",
   "version": "3.9.12"
  }
 },
 "nbformat": 4,
 "nbformat_minor": 4
}
